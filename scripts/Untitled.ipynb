{
 "cells": [
  {
   "cell_type": "code",
   "execution_count": 1,
   "metadata": {},
   "outputs": [],
   "source": [
    "from selenium import webdriver\n",
    "import time"
   ]
  },
  {
   "cell_type": "code",
   "execution_count": 2,
   "metadata": {},
   "outputs": [],
   "source": [
    "path = \"/Users/pavlo.lysytsya/Projects/EbookTranslator/scripts/webdrivers/chromedriver_mac64\"\n",
    "driver = webdriver.Chrome(executable_path=path)\n",
    "driver.get(\"https://www.deepl.com/translator\")"
   ]
  },
  {
   "cell_type": "code",
   "execution_count": 15,
   "metadata": {},
   "outputs": [],
   "source": [
    "input_field = driver.find_element_by_xpath('//*[@dl-test=\"translator-source-input\"]')"
   ]
  },
  {
   "cell_type": "code",
   "execution_count": 16,
   "metadata": {},
   "outputs": [],
   "source": [
    "time.sleep(3)\n",
    "input_field.click()\n",
    "input_field.send_keys(\"hello, world!\")"
   ]
  },
  {
   "cell_type": "code",
   "execution_count": 6,
   "metadata": {},
   "outputs": [],
   "source": [
    "target_lang = driver.find_element_by_class_name(\"translate_to\")"
   ]
  },
  {
   "cell_type": "code",
   "execution_count": 7,
   "metadata": {},
   "outputs": [],
   "source": [
    "time.sleep(3)\n",
    "target_lang.click()"
   ]
  },
  {
   "cell_type": "code",
   "execution_count": 4,
   "metadata": {},
   "outputs": [],
   "source": [
    "target_lang_list = driver.find_element_by_xpath('//*[@dl-test=\"translator-target-lang-list\"]')"
   ]
  },
  {
   "cell_type": "code",
   "execution_count": 5,
   "metadata": {},
   "outputs": [],
   "source": [
    "buttons = target_lang_list.find_elements_by_tag_name(\"button\")"
   ]
  },
  {
   "cell_type": "code",
   "execution_count": 6,
   "metadata": {},
   "outputs": [],
   "source": [
    "language_codes = [button.get_attribute(\"dl-value\") for button in buttons]"
   ]
  },
  {
   "cell_type": "code",
   "execution_count": 7,
   "metadata": {},
   "outputs": [
    {
     "data": {
      "text/plain": [
       "['EN', 'DE', 'FR', 'ES', 'PT', 'IT', 'NL', 'PL', 'RU']"
      ]
     },
     "execution_count": 7,
     "metadata": {},
     "output_type": "execute_result"
    }
   ],
   "source": [
    "language_codes"
   ]
  },
  {
   "cell_type": "code",
   "execution_count": 33,
   "metadata": {},
   "outputs": [],
   "source": [
    "output_box = driver.find_elements_by_class_name(\"lmt__inner_textarea_container\")[1]"
   ]
  },
  {
   "cell_type": "code",
   "execution_count": 47,
   "metadata": {},
   "outputs": [],
   "source": [
    "time.sleep(3)\n",
    "output_box.click()"
   ]
  },
  {
   "cell_type": "code",
   "execution_count": 48,
   "metadata": {},
   "outputs": [],
   "source": [
    "output_box.get_attribute(\"value\")"
   ]
  },
  {
   "cell_type": "code",
   "execution_count": 49,
   "metadata": {},
   "outputs": [],
   "source": [
    "box2 = driver.find_element_by_xpath('//*[@id=\"dl_translator\"]/div[1]/div[3]/div[3]/div[1]/textarea')"
   ]
  },
  {
   "cell_type": "code",
   "execution_count": 50,
   "metadata": {},
   "outputs": [
    {
     "data": {
      "text/plain": [
       "'Ich kam endlich von meiner zweiwöchigen Abwesenheit zurück. Wir sind jetzt seit drei Tagen in Rouletteenburg. Ich dachte, sie wüssten, wie man auf mich wartet, aber ich lag falsch. Der General sah äußerst unabhängig aus, sprach über mich und schickte mich zu meiner Schwester. Es war klar, dass sie irgendwo Geld abgefangen hatten. Ich dachte sogar, dass der General sich schämte, mich anzusehen. Maria Filippovna war in großen Schwierigkeiten und sprach ein wenig mit mir; das Geld nahm sie jedoch an, zählte und hörte sich meinen gesamten Bericht an. Mittags warteten Mezentsov, ein Franzose und ein anderer Engländer auf mich: Wie immer gab es Geld zu essen, also gab es sofort eine Dinnerparty in Moskau. Polina Alexandrovna, die mich sah, fragte, was ich so lange war? Natürlich hat sie es mit Absicht getan. Wir müssen uns jedoch erklären. Es hat sich viel angesammelt.'"
      ]
     },
     "execution_count": 50,
     "metadata": {},
     "output_type": "execute_result"
    }
   ],
   "source": [
    "box2.get_attribute(\"value\")"
   ]
  },
  {
   "cell_type": "code",
   "execution_count": 53,
   "metadata": {},
   "outputs": [
    {
     "data": {
      "text/plain": [
       "'Ich kam endlich von meiner zweiwöchigen Abwesenheit zurück. Wir sind jetzt seit drei Tagen in Rouletteenburg. Ich dachte, sie wüssten, wie man auf mich wartet, aber ich lag falsch. Der General sah äußerst unabhängig aus, sprach über mich und schickte mich zu meiner Schwester. Es war klar, dass sie irgendwo Geld abgefangen hatten. Ich dachte sogar, dass der General sich schämte, mich anzusehen. Maria Filippovna war in großen Schwierigkeiten und sprach ein wenig mit mir; das Geld nahm sie jedoch an, zählte und hörte sich meinen gesamten Bericht an. Mittags warteten Mezentsov, ein Franzose und ein anderer Engländer auf mich: Wie immer gab es Geld zu essen, also gab es sofort eine Dinnerparty in Moskau. Polina Alexandrovna, die mich sah, fragte, was ich so lange war? Natürlich hat sie es mit Absicht getan. Wir müssen uns jedoch erklären. Es hat sich viel angesammelt.'"
      ]
     },
     "execution_count": 53,
     "metadata": {},
     "output_type": "execute_result"
    }
   ],
   "source": [
    "output_box = driver.find_elements_by_class_name(\"lmt__inner_textarea_container\")[1]\n",
    "textarea = output_box.find_element_by_tag_name(\"textarea\")\n",
    "textarea.get_attribute(\"value\")"
   ]
  },
  {
   "cell_type": "code",
   "execution_count": null,
   "metadata": {},
   "outputs": [],
   "source": []
  }
 ],
 "metadata": {
  "kernelspec": {
   "display_name": "Python 3",
   "language": "python",
   "name": "python3"
  },
  "language_info": {
   "codemirror_mode": {
    "name": "ipython",
    "version": 3
   },
   "file_extension": ".py",
   "mimetype": "text/x-python",
   "name": "python",
   "nbconvert_exporter": "python",
   "pygments_lexer": "ipython3",
   "version": "3.7.4"
  }
 },
 "nbformat": 4,
 "nbformat_minor": 2
}
